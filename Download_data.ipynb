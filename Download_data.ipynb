{
 "cells": [
  {
   "cell_type": "markdown",
   "metadata": {
    "collapsed": false
   },
   "source": [
    "\n",
    "# Подключение необходимых библиотек\n",
    "# (import InsecureRequestWarning для избежания вывода ошибки, в случае если вы хотите указать директорию,то воспользуйтесь os.chdir )\n",
    "```python\n",
    "import os\n",
    "import requests\n",
    "import time\n",
    "from requests.packages.urllib3.exceptions import InsecureRequestWarning\n",
    "\n",
    "requests.packages.urllib3.disable_warnings(InsecureRequestWarning)\n",
    "```\n",
    "\n",
    "# URL адреса для запроса ссылок на загрузку и имена таблиц\n",
    "# ('https://analytic.nalog.ru/portal/GetBLOB.htm', 'T_ANALYTICAL_INFORMATION' если необходима \"Аналитическая справка\")\n",
    "```python\n",
    "param_list = [\n",
    "##    ('https://analytic.nalog.ru/portal/GetBLOB.htm', 'T_ANALYTICAL_INFORMATION'),\n",
    "    ('https://analytic.nalog.ru/portal/GetLongRaw.htm', 'T_PASSPORTS'),\n",
    "]\n",
    "```\n",
    "# Ниже можно указать через запятую ID файлов, которые хотите загрузить, иначе произойдет загрузка всего фрейма данных\n",
    "```python\n",
    "id_list = [452,263,178,824,1191]\n",
    "if not id_list:\n",
    "    id_list = range(5000)\n",
    "```\n",
    "# Скачивание файлов с сайта, если ID файла не обнаружено в бд на сайте,то выводим исключение.\n",
    "```python\n",
    "for i in id_list:\n",
    "    try:\n",
    "        for load_url, table_name in param_list:\n",
    "            data = {'ID': i, 'TABLE': table_name}\n",
    "\n",
    "            # Получение ссылки на загрузку файла\n",
    "            response = requests.post(load_url, data, timeout=3, verify=False)\n",
    "\n",
    "            file_name = response.text.replace('files/', '')\n",
    "            file_url = 'https://analytic.nalog.ru/portal/files/{}'.format(file_name)\n",
    "            print('ид: {}, имя: {}, ссылка: {}'.format(i, file_name, file_url))\n",
    "\n",
    "            if 'Истраченный набор результатов' not in file_name and 'Недопустимый тип столбца' not in file_name:\n",
    "                # Загрузка файла\n",
    "                response = requests.get(file_url, timeout=6, verify=False)\n",
    "                # Сохранение файла в текущую папку\n",
    "                with open(file_name, 'wb') as file:\n",
    "                    file.write(response.content)\n",
    "\n",
    "    except Exception as error:\n",
    "        print(type(error), error)\n",
    "```"
   ]
  },
  {
   "cell_type": "code",
   "execution_count": 0,
   "metadata": {
    "collapsed": false
   },
   "outputs": [
   ],
   "source": [
   ]
  }
 ],
 "metadata": {
  "kernelspec": {
   "display_name": "Python 3 (system-wide)",
   "language": "python",
   "metadata": {
    "cocalc": {
     "description": "Python 3 programming language",
     "priority": 100,
     "url": "https://www.python.org/"
    }
   },
   "name": "python3"
  },
  "language_info": {
   "codemirror_mode": {
    "name": "ipython",
    "version": 3
   },
   "file_extension": ".py",
   "mimetype": "text/x-python",
   "name": "python",
   "nbconvert_exporter": "python",
   "pygments_lexer": "ipython3",
   "version": "3.6.9"
  }
 },
 "nbformat": 4,
 "nbformat_minor": 0
}